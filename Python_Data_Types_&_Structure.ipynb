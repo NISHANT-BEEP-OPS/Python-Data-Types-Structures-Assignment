{
  "nbformat": 4,
  "nbformat_minor": 0,
  "metadata": {
    "colab": {
      "provenance": []
    },
    "kernelspec": {
      "name": "python3",
      "display_name": "Python 3"
    },
    "language_info": {
      "name": "python"
    }
  },
  "cells": [
    {
      "cell_type": "markdown",
      "source": [
        "**1 :- What are data structures, and why are they important**"
      ],
      "metadata": {
        "id": "dQVVt4P31Az6"
      }
    },
    {
      "cell_type": "markdown",
      "source": [
        "Data structures are fundamental ways of organizing and storing data for efficient access and manipulation within computer programs. They are important because they enable efficient algorithms, improve code readability, and make data management more effective."
      ],
      "metadata": {
        "id": "J_t7K_eY2l99"
      }
    },
    {
      "cell_type": "markdown",
      "source": [
        "**2 :- Explain the difference between mutable and immutable data types with examples**"
      ],
      "metadata": {
        "id": "cEwhBGJn2y6U"
      }
    },
    {
      "cell_type": "markdown",
      "source": [
        "Mutable data types are those that can be modified after their creation, while immutable data types cannot be changed once they are created\n"
      ],
      "metadata": {
        "id": "Qbjb1HFA3uYE"
      }
    },
    {
      "cell_type": "code",
      "source": [
        "# Example_Mutable Data Types:"
      ],
      "metadata": {
        "id": "OlUrI50E3zhL"
      },
      "execution_count": null,
      "outputs": []
    },
    {
      "cell_type": "code",
      "source": [
        "my_list = [1, 2, 3]\n",
        "my_list.append(4)\n",
        "print(my_list)"
      ],
      "metadata": {
        "colab": {
          "base_uri": "https://localhost:8080/"
        },
        "id": "PRpArONH4Gw-",
        "outputId": "c838e2ee-ebfe-4cd5-8bc2-c318a84df7ea"
      },
      "execution_count": null,
      "outputs": [
        {
          "output_type": "stream",
          "name": "stdout",
          "text": [
            "[1, 2, 3, 4]\n"
          ]
        }
      ]
    },
    {
      "cell_type": "code",
      "source": [
        "# Example_Immutable Data Types:"
      ],
      "metadata": {
        "id": "5sJGCHUP4oSy"
      },
      "execution_count": null,
      "outputs": []
    },
    {
      "cell_type": "code",
      "source": [
        "my_str = \"hello\"\n",
        "my_str.[0] = \"H\""
      ],
      "metadata": {
        "colab": {
          "base_uri": "https://localhost:8080/",
          "height": 159
        },
        "id": "QB1KzXaC5PAM",
        "outputId": "cae99916-e11e-4812-d337-2e3e2f35e2d1"
      },
      "execution_count": null,
      "outputs": [
        {
          "output_type": "error",
          "ename": "TypeError",
          "evalue": "'str' object does not support item assignment",
          "traceback": [
            "\u001b[0;31m---------------------------------------------------------------------------\u001b[0m",
            "\u001b[0;31mTypeError\u001b[0m                                 Traceback (most recent call last)",
            "\u001b[0;32m<ipython-input-4-0febd36922b6>\u001b[0m in \u001b[0;36m<cell line: 0>\u001b[0;34m()\u001b[0m\n\u001b[1;32m      1\u001b[0m \u001b[0mmy_str\u001b[0m \u001b[0;34m=\u001b[0m \u001b[0;34m\"hello\"\u001b[0m\u001b[0;34m\u001b[0m\u001b[0;34m\u001b[0m\u001b[0m\n\u001b[0;32m----> 2\u001b[0;31m \u001b[0mmy_str\u001b[0m\u001b[0;34m[\u001b[0m\u001b[0;36m0\u001b[0m\u001b[0;34m]\u001b[0m \u001b[0;34m=\u001b[0m \u001b[0;34m\"H\"\u001b[0m\u001b[0;34m\u001b[0m\u001b[0;34m\u001b[0m\u001b[0m\n\u001b[0m",
            "\u001b[0;31mTypeError\u001b[0m: 'str' object does not support item assignment"
          ]
        }
      ]
    },
    {
      "cell_type": "markdown",
      "source": [
        "**3 :- What are the main differences between lists and tuples in Python**"
      ],
      "metadata": {
        "id": "q420_z755rQK"
      }
    },
    {
      "cell_type": "markdown",
      "source": [
        "Key Differences between List and Tuple"
      ],
      "metadata": {
        "id": "PyN4HA3v6NMK"
      }
    },
    {
      "cell_type": "markdown",
      "source": [
        "List :-\n",
        "1 - Lists are mutable(can be modified).\n",
        "2 - Iteration over lists is time-consuming.\n",
        "3 - Lists are better for performing operations, such as insertion and deletion.\n",
        "4 - Lists consume more memory.\n",
        "5 - Lists have several built-in methods.\n",
        "\n",
        "\n",
        "Tuple :-\n",
        "1 - Tuples are immutable(cannot be modified).\n",
        "2 - Iterations over tuple is faster\n",
        "3 - Tuples are more suitable for accessing elements efficiently.\n",
        "4 - Tuples consumes less memory\n",
        "5 - Tuples have fewer built-in methods.\n",
        "\n",
        "\n",
        "\n",
        "\n",
        "\n",
        "\n",
        "\n",
        "\n",
        "\n",
        "\n",
        "\n",
        "\n",
        "\n"
      ],
      "metadata": {
        "id": "yfhYtkbw7Gd8"
      }
    },
    {
      "cell_type": "markdown",
      "source": [
        "**4:- Describe how dictionaries store data**"
      ],
      "metadata": {
        "id": "10ox_4TC8W3H"
      }
    },
    {
      "cell_type": "markdown",
      "source": [
        "A dictionary in Python is an unordered, mutable collection that stores data in key-value pairs.\n",
        "\n"
      ],
      "metadata": {
        "id": "gnknzQlh9AjG"
      }
    },
    {
      "cell_type": "markdown",
      "source": [
        "**5:- Why might you use a set instead of a list in Python**"
      ],
      "metadata": {
        "id": "gWA5pbxA-AUW"
      }
    },
    {
      "cell_type": "markdown",
      "source": [
        "Sets and lists are both used to store collections of items in Python, but they have key differences that make them suitable for different situations.\n",
        "Key Differences:\n",
        "\n",
        "Uniqueness:\n",
        "\n",
        "Sets only store unique elements, automatically removing duplicates. Lists allow duplicate elements.\n",
        "\n",
        "Order:\n",
        "\n",
        "Sets are unordered, meaning the elements don't have a specific sequence. Lists are ordered, and elements retain their insertion order.\n",
        "\n",
        "Mutability:\n",
        "\n",
        "Sets are mutable, allowing you to add and remove elements after creation. However, the elements themselves must be immutable (e.g., numbers, strings, tuples). Lists are also mutable, allowing you to add, remove, and modify elements.\n",
        "\n",
        "Indexing:\n",
        "\n",
        "Lists support indexing, allowing you to access elements by their position. Sets do not support indexing.\n",
        "\n",
        "Performance:\n",
        "\n",
        "Sets have faster membership testing and duplicate removal compared to lists."
      ],
      "metadata": {
        "id": "CsAJzamp-JNS"
      }
    },
    {
      "cell_type": "markdown",
      "source": [
        "**6:- What is a string in Python, and how is it different from a list**"
      ],
      "metadata": {
        "id": "WBIHZo-i_WEU"
      }
    },
    {
      "cell_type": "markdown",
      "source": [
        "In Python, a string is an immutable sequence of characters enclosed in single or double quotes, while a list is a mutable, ordered sequence of items enclosed in square brackets. Strings can only contain characters, while lists can hold various data types, including strings, numbers, and even other lists.\n",
        "Elaboration:\n",
        "\n",
        "Strings:\n",
        "\n",
        "Strings are used to represent textual data and are considered immutable, meaning they cannot be changed once created.\n",
        "\n",
        "Lists:\n",
        "\n",
        "Lists are versatile data structures that can store a variety of data types, including strings, integers, floats, booleans, and even other lists (nested lists). They are mutable, meaning you can modify, add, or remove elements after the list has been created.\n"
      ],
      "metadata": {
        "id": "iM6g5pM0_c5F"
      }
    },
    {
      "cell_type": "markdown",
      "source": [
        "**7:- How do tuples ensure data integrity in Python**\n"
      ],
      "metadata": {
        "id": "D2HEY1SAAeYb"
      }
    },
    {
      "cell_type": "markdown",
      "source": [
        "In Python, tuples ensure data integrity primarily through their immutability, which means once a tuple is created, its contents cannot be changed. This property makes them ideal for representing constant and reliable data.\n",
        "\n",
        "Key Ways Tuples Ensure Data Integrity\n",
        "\n",
        "Immutability\n",
        "\n",
        "Fixed Structure\n",
        "\n",
        "Safe Sharing\n",
        "\n",
        "\n",
        "\n",
        "\n"
      ],
      "metadata": {
        "id": "1yOWYkk1BD-Y"
      }
    },
    {
      "cell_type": "markdown",
      "source": [
        "**8:- What is a hash table, and how does it relate to dictionaries in Python**"
      ],
      "metadata": {
        "id": "rF80c1OOCBJR"
      }
    },
    {
      "cell_type": "markdown",
      "source": [
        "A hash table is a data structure that stores key-value pairs and allows for fast data access based on keys. It works by using a hash function to convert a key into an index in an underlying array, where the corresponding value is stored.\n",
        "\n",
        "In Python, a **dictionary** is implemented using a hash table internally."
      ],
      "metadata": {
        "id": "zf5C5cbHDJRg"
      }
    },
    {
      "cell_type": "markdown",
      "source": [
        "**9:- Can lists contain different data types in Python**"
      ],
      "metadata": {
        "id": "XwwhHwcLDimL"
      }
    },
    {
      "cell_type": "markdown",
      "source": [
        "Yes, lists in Python can contain elements of different data types."
      ],
      "metadata": {
        "id": "iVE6xWF0D36U"
      }
    },
    {
      "cell_type": "markdown",
      "source": [
        "**10:- Explain why strings are immutable in Python**"
      ],
      "metadata": {
        "id": "7Fsr3ABZD9q1"
      }
    },
    {
      "cell_type": "markdown",
      "source": [
        "Strings in Python are \"immutable\" which means they can not be changed after they are created. Some other immutable data types are integers, float, boolean, etc."
      ],
      "metadata": {
        "id": "0MPGwJ0xEXrX"
      }
    },
    {
      "cell_type": "code",
      "source": [
        "my_string = \"Hello, world!\"\n",
        "my_string[0] = \"h\""
      ],
      "metadata": {
        "colab": {
          "base_uri": "https://localhost:8080/",
          "height": 159
        },
        "id": "AyMs__iiEhiA",
        "outputId": "c2cce8a5-28dd-454f-92ea-f3a5a4f39b68"
      },
      "execution_count": null,
      "outputs": [
        {
          "output_type": "error",
          "ename": "TypeError",
          "evalue": "'str' object does not support item assignment",
          "traceback": [
            "\u001b[0;31m---------------------------------------------------------------------------\u001b[0m",
            "\u001b[0;31mTypeError\u001b[0m                                 Traceback (most recent call last)",
            "\u001b[0;32m<ipython-input-7-1330abbcc916>\u001b[0m in \u001b[0;36m<cell line: 0>\u001b[0;34m()\u001b[0m\n\u001b[1;32m      1\u001b[0m \u001b[0mmy_string\u001b[0m \u001b[0;34m=\u001b[0m \u001b[0;34m\"Hello, world!\"\u001b[0m\u001b[0;34m\u001b[0m\u001b[0;34m\u001b[0m\u001b[0m\n\u001b[0;32m----> 2\u001b[0;31m \u001b[0mmy_string\u001b[0m\u001b[0;34m[\u001b[0m\u001b[0;36m0\u001b[0m\u001b[0;34m]\u001b[0m \u001b[0;34m=\u001b[0m \u001b[0;34m\"h\"\u001b[0m\u001b[0;34m\u001b[0m\u001b[0;34m\u001b[0m\u001b[0m\n\u001b[0m",
            "\u001b[0;31mTypeError\u001b[0m: 'str' object does not support item assignment"
          ]
        }
      ]
    },
    {
      "cell_type": "markdown",
      "source": [
        "**11:- What advantages do dictionaries offer over lists for certain tasks**"
      ],
      "metadata": {
        "id": "_zveAeT7E2AG"
      }
    },
    {
      "cell_type": "markdown",
      "source": [
        "The list allows duplicate items, while the dictionary does not allow any duplicate keys."
      ],
      "metadata": {
        "id": "WoXbYPTpFVIW"
      }
    },
    {
      "cell_type": "markdown",
      "source": [
        "**12:- Describe a scenario where using a tuple would be preferable over a list**"
      ],
      "metadata": {
        "id": "odtgqTx1FYrG"
      }
    },
    {
      "cell_type": "markdown",
      "source": [
        "If you have data that's not meant to be changed in the first place — such as critical information or records — you should choose tuple data type over lists."
      ],
      "metadata": {
        "id": "0iVKjQKYGDpG"
      }
    },
    {
      "cell_type": "markdown",
      "source": [
        "**13:- How do sets handle duplicate values in Python**"
      ],
      "metadata": {
        "id": "jflrfcmvGN83"
      }
    },
    {
      "cell_type": "markdown",
      "source": [
        "In Python, a set is an unordered collection of unique elements. It automatically removes duplicate values, ensuring that each element appears only once.\n",
        "\n",
        "Here's how sets handle duplicates:\n",
        "\n",
        "Automatic Removal\n",
        "\n",
        "No Modification\n",
        "\n",
        "Uniqueness"
      ],
      "metadata": {
        "id": "tdiSWLoqGoB8"
      }
    },
    {
      "cell_type": "markdown",
      "source": [
        "**14:- How does the “in” keyword work differently for lists and dictionaries**"
      ],
      "metadata": {
        "id": "5dY0jL6JHAmq"
      }
    },
    {
      "cell_type": "markdown",
      "source": [
        "The in keyword is used to check membership, but its behavior depends on the type of collection you're using.\n",
        "\n"
      ],
      "metadata": {
        "id": "pZKTTI-dHqnu"
      }
    },
    {
      "cell_type": "code",
      "source": [
        "#For List\n",
        "fruits = [\"apple\", \"banana\", \"cherry\"]\n",
        "\n",
        "print(\"banana\" in fruits)\n",
        "print(\"orange\" in fruits)"
      ],
      "metadata": {
        "colab": {
          "base_uri": "https://localhost:8080/"
        },
        "id": "bepDp-TjHvO5",
        "outputId": "a597ce91-a08b-4900-d55b-4abfb312ece0"
      },
      "execution_count": null,
      "outputs": [
        {
          "output_type": "stream",
          "name": "stdout",
          "text": [
            "True\n",
            "False\n"
          ]
        }
      ]
    },
    {
      "cell_type": "code",
      "source": [
        "#For Dictionaries\n",
        "person = {\"name\": \"Nishant\", \"age\": 29}\n",
        "\n",
        "print(\"name\" in person)\n",
        "print(\"Nishant\" in person)"
      ],
      "metadata": {
        "colab": {
          "base_uri": "https://localhost:8080/"
        },
        "id": "Ry2wEG9YH-pp",
        "outputId": "8cabeacd-a273-4c69-b8f1-602275b3df8b"
      },
      "execution_count": null,
      "outputs": [
        {
          "output_type": "stream",
          "name": "stdout",
          "text": [
            "True\n",
            "False\n"
          ]
        }
      ]
    },
    {
      "cell_type": "markdown",
      "source": [
        "**15:- Can you modify the elements of a tuple? Explain why or why not**"
      ],
      "metadata": {
        "id": "UG8lmsU4IhxU"
      }
    },
    {
      "cell_type": "markdown",
      "source": [
        "No, you cannot modify the elements of a tuple in Python"
      ],
      "metadata": {
        "id": "b-MdcytgI7-s"
      }
    },
    {
      "cell_type": "code",
      "source": [
        "#Attempting to Modify a Tuple\n",
        "my_tuple = (1, 2, 3)\n",
        "my_tuple[0] = 10"
      ],
      "metadata": {
        "colab": {
          "base_uri": "https://localhost:8080/",
          "height": 176
        },
        "id": "_zHeg-YNJF08",
        "outputId": "0d5f1333-aea9-48e9-feab-718e7fb33ceb"
      },
      "execution_count": null,
      "outputs": [
        {
          "output_type": "error",
          "ename": "TypeError",
          "evalue": "'tuple' object does not support item assignment",
          "traceback": [
            "\u001b[0;31m---------------------------------------------------------------------------\u001b[0m",
            "\u001b[0;31mTypeError\u001b[0m                                 Traceback (most recent call last)",
            "\u001b[0;32m<ipython-input-11-8507c629de51>\u001b[0m in \u001b[0;36m<cell line: 0>\u001b[0;34m()\u001b[0m\n\u001b[1;32m      1\u001b[0m \u001b[0;31m#Attempting to Modify a Tuple\u001b[0m\u001b[0;34m\u001b[0m\u001b[0;34m\u001b[0m\u001b[0m\n\u001b[1;32m      2\u001b[0m \u001b[0mmy_tuple\u001b[0m \u001b[0;34m=\u001b[0m \u001b[0;34m(\u001b[0m\u001b[0;36m1\u001b[0m\u001b[0;34m,\u001b[0m \u001b[0;36m2\u001b[0m\u001b[0;34m,\u001b[0m \u001b[0;36m3\u001b[0m\u001b[0;34m)\u001b[0m\u001b[0;34m\u001b[0m\u001b[0;34m\u001b[0m\u001b[0m\n\u001b[0;32m----> 3\u001b[0;31m \u001b[0mmy_tuple\u001b[0m\u001b[0;34m[\u001b[0m\u001b[0;36m0\u001b[0m\u001b[0;34m]\u001b[0m \u001b[0;34m=\u001b[0m \u001b[0;36m10\u001b[0m\u001b[0;34m\u001b[0m\u001b[0;34m\u001b[0m\u001b[0m\n\u001b[0m",
            "\u001b[0;31mTypeError\u001b[0m: 'tuple' object does not support item assignment"
          ]
        }
      ]
    },
    {
      "cell_type": "markdown",
      "source": [
        "**16:- What is a nested dictionary, and give an example of its use case**"
      ],
      "metadata": {
        "id": "OC3nQAsoJqFA"
      }
    },
    {
      "cell_type": "markdown",
      "source": [
        "A nested dictionary in Python is a dictionary where the values are themselves dictionaries"
      ],
      "metadata": {
        "id": "fxyeR0TyKWDU"
      }
    },
    {
      "cell_type": "code",
      "source": [
        "Dict = { 'Dict1': { },'Dict2': { }}\n",
        "print(\"Nested dictionary 1-\")\n",
        "print(Dict)"
      ],
      "metadata": {
        "colab": {
          "base_uri": "https://localhost:8080/"
        },
        "id": "DkdVufGFKcmf",
        "outputId": "37319926-68f7-4bd0-d9cb-4142bd223791"
      },
      "execution_count": null,
      "outputs": [
        {
          "output_type": "stream",
          "name": "stdout",
          "text": [
            "Nested dictionary 1-\n",
            "{'Dict1': {}, 'Dict2': {}}\n"
          ]
        }
      ]
    },
    {
      "cell_type": "markdown",
      "source": [
        "17:- **Describe the time complexity of accessing elements in a dictionary**"
      ],
      "metadata": {
        "id": "h2KQX02nLFbz"
      }
    },
    {
      "cell_type": "markdown",
      "source": [
        "In Python, dictionaries are implemented using hash tables, which allow for efficient key-based access."
      ],
      "metadata": {
        "id": "JwDVZ-1NLrq3"
      }
    },
    {
      "cell_type": "code",
      "source": [
        "# Create a dictionary\n",
        "dict = {'a': 1, 'b': 2, 'c': 3}\n",
        "\n",
        "# Access value by key\n",
        "val = dict['b']\n",
        "print(val)"
      ],
      "metadata": {
        "colab": {
          "base_uri": "https://localhost:8080/"
        },
        "id": "O-vXzOavLt-o",
        "outputId": "84e46c18-39a3-471b-8b1a-e014cc7d9e9f"
      },
      "execution_count": null,
      "outputs": [
        {
          "output_type": "stream",
          "name": "stdout",
          "text": [
            "2\n"
          ]
        }
      ]
    },
    {
      "cell_type": "markdown",
      "source": [
        "**18:- In what situations are lists preferred over dictionaries**"
      ],
      "metadata": {
        "id": "9B0gV5YQL_HU"
      }
    },
    {
      "cell_type": "markdown",
      "source": [
        "While dictionaries are great for key-value mappings, lists are often the better choice when"
      ],
      "metadata": {
        "id": "9eaGa404MZgH"
      }
    },
    {
      "cell_type": "markdown",
      "source": [
        "**19:- Why are dictionaries considered unordered, and how does that affect data retrieval**"
      ],
      "metadata": {
        "id": "B_no-HaLMbjN"
      }
    },
    {
      "cell_type": "markdown",
      "source": [
        "A dictionary is considered an unordered collection because the order in which key-value pairs are added to the dictionary does not affect how they are stored or accessed."
      ],
      "metadata": {
        "id": "4mlsldS2NNJI"
      }
    },
    {
      "cell_type": "markdown",
      "source": [
        "**20:- Explain the difference between a list and a dictionary in terms of data retrieval.**"
      ],
      "metadata": {
        "id": "qV_djLIgNkQj"
      }
    },
    {
      "cell_type": "markdown",
      "source": [
        "Lists in Python\n",
        "\n",
        "In Python, a list is a built-in dynamic sized array (automatically grows and shrinks). We can store all types of items (including another list) in a list. A list may contain mixed type of items, this is possible because a list mainly stores references at contiguous locations and actual items maybe stored at different locations.\n",
        "\n",
        "Dictionary in Python\n",
        "\n",
        "A Python dictionary is a data structure that stores the value in key: value pairs. Values in a dictionary can be of any data type and can be duplicated, whereas keys can’t be repeated and must be immutable."
      ],
      "metadata": {
        "id": "0Q1jEhDbOVYo"
      }
    },
    {
      "cell_type": "markdown",
      "source": [
        "**Write a code to create a string with your name and print it**"
      ],
      "metadata": {
        "id": "ayX61QMr8CwS"
      }
    },
    {
      "cell_type": "code",
      "source": [
        "my_name = \"Nishant Raghav\"\n",
        "print(my_name)"
      ],
      "metadata": {
        "colab": {
          "base_uri": "https://localhost:8080/"
        },
        "id": "OV9iTOc58K-n",
        "outputId": "9dc4e5cf-0ee2-4d51-a609-cf606b07191b"
      },
      "execution_count": 1,
      "outputs": [
        {
          "output_type": "stream",
          "name": "stdout",
          "text": [
            "Nishant Raghav\n"
          ]
        }
      ]
    },
    {
      "cell_type": "markdown",
      "source": [
        "**Write a code to find the length of the string \"Hello World\"**"
      ],
      "metadata": {
        "id": "vp9JfwVN8dov"
      }
    },
    {
      "cell_type": "code",
      "source": [
        "string = \"Hello World\"\n",
        "len(string)\n"
      ],
      "metadata": {
        "colab": {
          "base_uri": "https://localhost:8080/"
        },
        "id": "lsS8mghN82c2",
        "outputId": "35657560-ed49-45b5-f17e-f3dbbebc3af5"
      },
      "execution_count": 4,
      "outputs": [
        {
          "output_type": "execute_result",
          "data": {
            "text/plain": [
              "11"
            ]
          },
          "metadata": {},
          "execution_count": 4
        }
      ]
    },
    {
      "cell_type": "markdown",
      "source": [
        "**Write a code to slice the first 3 characters from the string \"Python Programming\"**"
      ],
      "metadata": {
        "id": "0SmcCvi09Ixx"
      }
    },
    {
      "cell_type": "code",
      "source": [
        "string = \"Python Programming\"\n",
        "print(string[0:3])"
      ],
      "metadata": {
        "colab": {
          "base_uri": "https://localhost:8080/"
        },
        "id": "XN8K294N9B77",
        "outputId": "dc7197c2-a2fb-4418-e60b-50b1a0209b86"
      },
      "execution_count": 6,
      "outputs": [
        {
          "output_type": "stream",
          "name": "stdout",
          "text": [
            "Pyt\n"
          ]
        }
      ]
    },
    {
      "cell_type": "markdown",
      "source": [
        "**Write a code to convert the string \"hello\" to uppercase**"
      ],
      "metadata": {
        "id": "UW-08DbP9uL3"
      }
    },
    {
      "cell_type": "code",
      "source": [
        "text = \"hello\"\n",
        "uppercase_text = text.upper()\n",
        "print(uppercase_text)"
      ],
      "metadata": {
        "colab": {
          "base_uri": "https://localhost:8080/"
        },
        "id": "f445MHyb-Xa-",
        "outputId": "fbb23a7e-22d0-4d9f-df0d-20c2dcc9192a"
      },
      "execution_count": 9,
      "outputs": [
        {
          "output_type": "stream",
          "name": "stdout",
          "text": [
            "HELLO\n"
          ]
        }
      ]
    },
    {
      "cell_type": "markdown",
      "source": [
        "**Write a code to replace the word \"apple\" with \"orange\" in the string \"I like apple\"**"
      ],
      "metadata": {
        "id": "ORZlrz5m_lr3"
      }
    },
    {
      "cell_type": "code",
      "source": [
        "text = \"I like apple\"\n",
        "new_text = text.replace(\"apple\", \"orange\")\n",
        "print(new_text)"
      ],
      "metadata": {
        "colab": {
          "base_uri": "https://localhost:8080/"
        },
        "id": "qqyYwICp_SaU",
        "outputId": "b9f559b6-6138-43c9-a053-aaa2be647114"
      },
      "execution_count": 11,
      "outputs": [
        {
          "output_type": "stream",
          "name": "stdout",
          "text": [
            "I like orange\n"
          ]
        }
      ]
    },
    {
      "cell_type": "markdown",
      "source": [
        "**Write a code to create a list with numbers 1 to 5 and print it**"
      ],
      "metadata": {
        "id": "NaSFFP5oBODn"
      }
    },
    {
      "cell_type": "code",
      "source": [
        "my_list = [1, 2, 3, 4, 5]\n",
        "print(my_list)"
      ],
      "metadata": {
        "colab": {
          "base_uri": "https://localhost:8080/"
        },
        "id": "L7Id0Kv4BoeX",
        "outputId": "16abe93a-54fb-46b1-9583-170e472b33a7"
      },
      "execution_count": 12,
      "outputs": [
        {
          "output_type": "stream",
          "name": "stdout",
          "text": [
            "[1, 2, 3, 4, 5]\n"
          ]
        }
      ]
    },
    {
      "cell_type": "markdown",
      "source": [
        "**Write a code to append the number 10 to the list [1, 2, 3, 4]**"
      ],
      "metadata": {
        "id": "xFq-nqQaCB_5"
      }
    },
    {
      "cell_type": "code",
      "source": [
        "my_list = [1, 2, 3, 4]\n",
        "my_list.append(10)\n",
        "print(my_list)"
      ],
      "metadata": {
        "colab": {
          "base_uri": "https://localhost:8080/"
        },
        "id": "FNe5iyXzBv6N",
        "outputId": "135d24c2-a5d5-41a2-e0b0-a2a71d4ea431"
      },
      "execution_count": 14,
      "outputs": [
        {
          "output_type": "stream",
          "name": "stdout",
          "text": [
            "[1, 2, 3, 4, 10]\n"
          ]
        }
      ]
    },
    {
      "cell_type": "markdown",
      "source": [
        "**Write a code to remove the number 3 from the list [1, 2, 3, 4, 5]**"
      ],
      "metadata": {
        "id": "Ma_Tf0kNCpuA"
      }
    },
    {
      "cell_type": "code",
      "source": [
        "my_list = [1, 2, 3, 4, 5]\n",
        "my_list.remove(3)\n",
        "print(my_list)"
      ],
      "metadata": {
        "colab": {
          "base_uri": "https://localhost:8080/"
        },
        "id": "Z905FNDICRxW",
        "outputId": "82fd1486-bba6-4668-8e35-5d4c00977fb9"
      },
      "execution_count": 19,
      "outputs": [
        {
          "output_type": "stream",
          "name": "stdout",
          "text": [
            "[1, 2, 4, 5]\n"
          ]
        }
      ]
    },
    {
      "cell_type": "markdown",
      "source": [
        "**Write a code to access the second element in the list ['a', 'b', 'c', 'd']**"
      ],
      "metadata": {
        "id": "eeMSnNnsDyLX"
      }
    },
    {
      "cell_type": "code",
      "source": [
        "my_list = ['a', 'b', 'c', 'd']\n",
        "print(my_list[1])"
      ],
      "metadata": {
        "colab": {
          "base_uri": "https://localhost:8080/"
        },
        "id": "eeV86KwEC9IC",
        "outputId": "1a0a6357-3467-4d38-d8a9-5e0e5391de95"
      },
      "execution_count": 27,
      "outputs": [
        {
          "output_type": "stream",
          "name": "stdout",
          "text": [
            "b\n"
          ]
        }
      ]
    },
    {
      "cell_type": "markdown",
      "source": [
        "**Write a code to reverse the list [10, 20, 30, 40, 50].**"
      ],
      "metadata": {
        "id": "GC4KgEwAFK3I"
      }
    },
    {
      "cell_type": "code",
      "source": [
        "my_list = [10, 20, 30, 40, 50]\n",
        "my_list.reverse()\n",
        "print(my_list)"
      ],
      "metadata": {
        "colab": {
          "base_uri": "https://localhost:8080/"
        },
        "id": "hsCCiAnQEfs6",
        "outputId": "4933c8dd-16ea-495a-ce7f-460a055e71d8"
      },
      "execution_count": 23,
      "outputs": [
        {
          "output_type": "stream",
          "name": "stdout",
          "text": [
            "[50, 40, 30, 20, 10]\n"
          ]
        }
      ]
    },
    {
      "cell_type": "markdown",
      "source": [
        "**Write a code to create a tuple with the elements 100, 200, 300 and print it.**"
      ],
      "metadata": {
        "id": "2_8wnqMiF29X"
      }
    },
    {
      "cell_type": "code",
      "source": [
        "my_tuple = (100, 200, 300)\n",
        "print(my_tuple)"
      ],
      "metadata": {
        "colab": {
          "base_uri": "https://localhost:8080/"
        },
        "id": "PglxK8lUFpuk",
        "outputId": "3071bfdf-8d0e-4bd6-db65-68379929dfde"
      },
      "execution_count": 24,
      "outputs": [
        {
          "output_type": "stream",
          "name": "stdout",
          "text": [
            "(100, 200, 300)\n"
          ]
        }
      ]
    },
    {
      "cell_type": "markdown",
      "source": [
        "**Write a code to access the second-to-last element of the tuple ('red', 'green', 'blue', 'yellow').**"
      ],
      "metadata": {
        "id": "PCfbxVaPIY3H"
      }
    },
    {
      "cell_type": "code",
      "source": [
        "my_tuple = ('red', 'green', 'blue', 'yellow')\n",
        "print(my_tuple[-2])"
      ],
      "metadata": {
        "colab": {
          "base_uri": "https://localhost:8080/"
        },
        "id": "cNVEqTXpIQ6z",
        "outputId": "d9de7204-ea5c-4473-8f23-c7d157331c91"
      },
      "execution_count": 29,
      "outputs": [
        {
          "output_type": "stream",
          "name": "stdout",
          "text": [
            "blue\n"
          ]
        }
      ]
    },
    {
      "cell_type": "markdown",
      "source": [
        "**Write a code to find the minimum number in the tuple (10, 20, 5, 15).**"
      ],
      "metadata": {
        "id": "4AokuiQSKGDv"
      }
    },
    {
      "cell_type": "code",
      "source": [
        "my_tuple = (10, 20, 5, 15)\n",
        "print(min(my_tuple))"
      ],
      "metadata": {
        "colab": {
          "base_uri": "https://localhost:8080/"
        },
        "id": "wclzxM9pI7s3",
        "outputId": "7be04aac-da3c-4f87-f32f-48c5a4a5690e"
      },
      "execution_count": 30,
      "outputs": [
        {
          "output_type": "stream",
          "name": "stdout",
          "text": [
            "5\n"
          ]
        }
      ]
    },
    {
      "cell_type": "markdown",
      "source": [
        "**Write a code to find the index of the element \"cat\" in the tuple ('dog', 'cat', 'rabbit').**"
      ],
      "metadata": {
        "id": "HjT3sU2EKhCP"
      }
    },
    {
      "cell_type": "code",
      "source": [
        "my_tuple = ('dog', 'cat', 'rabbit')\n",
        "print(my_tuple.index('cat'))"
      ],
      "metadata": {
        "colab": {
          "base_uri": "https://localhost:8080/"
        },
        "id": "Rd3lYfqcKW3L",
        "outputId": "fbc024c5-5c89-45d5-b647-9182edc0e87e"
      },
      "execution_count": 33,
      "outputs": [
        {
          "output_type": "stream",
          "name": "stdout",
          "text": [
            "1\n"
          ]
        }
      ]
    },
    {
      "cell_type": "markdown",
      "source": [
        "**Write a code to create a tuple containing three different fruits and check if \"kiwi\" is in it.**"
      ],
      "metadata": {
        "id": "sPSxzEy9LdPB"
      }
    },
    {
      "cell_type": "code",
      "source": [
        "my_fruits = (\"apple\", \"kiwi\", \"banana\")\n",
        "if \"Kiwi\" in my_fruits:\n",
        "  print(True)\n",
        "else:\n",
        "  print(False)"
      ],
      "metadata": {
        "colab": {
          "base_uri": "https://localhost:8080/"
        },
        "id": "emHfLVbDNeIE",
        "outputId": "b39b90ad-1494-4431-b20a-07d1b9625f90"
      },
      "execution_count": 39,
      "outputs": [
        {
          "output_type": "stream",
          "name": "stdout",
          "text": [
            "False\n"
          ]
        }
      ]
    },
    {
      "cell_type": "markdown",
      "source": [
        "**Write a code to create a set with the elements 'a', 'b', 'c' and print it.**"
      ],
      "metadata": {
        "id": "txKRT0HhNw_m"
      }
    },
    {
      "cell_type": "code",
      "source": [
        "my_set = {'a', 'b', 'c'}\n",
        "print(my_set)\n"
      ],
      "metadata": {
        "colab": {
          "base_uri": "https://localhost:8080/"
        },
        "id": "1Kt8QFPxNm23",
        "outputId": "cbc4d9f6-d91f-449a-ef8c-6e9614ab6fbe"
      },
      "execution_count": 40,
      "outputs": [
        {
          "output_type": "stream",
          "name": "stdout",
          "text": [
            "{'b', 'c', 'a'}\n"
          ]
        }
      ]
    },
    {
      "cell_type": "markdown",
      "source": [
        "**Write a code to clear all elements from the set {1, 2, 3, 4, 5}.**"
      ],
      "metadata": {
        "id": "Mx3MtAqNODzW"
      }
    },
    {
      "cell_type": "code",
      "source": [
        "my_set = {1, 2, 3, 4, 5}\n",
        "my_set.clear()\n",
        "print(my_set)"
      ],
      "metadata": {
        "colab": {
          "base_uri": "https://localhost:8080/"
        },
        "id": "iDjQvtf_Oiwa",
        "outputId": "d2825a23-5cb3-4730-c288-912857498eff"
      },
      "execution_count": 43,
      "outputs": [
        {
          "output_type": "stream",
          "name": "stdout",
          "text": [
            "set()\n"
          ]
        }
      ]
    },
    {
      "cell_type": "markdown",
      "source": [
        "**Write a code to remove the element 4 from the set {1, 2, 3, 4}.**"
      ],
      "metadata": {
        "id": "9yoyq4XJPImu"
      }
    },
    {
      "cell_type": "code",
      "source": [
        "my_set = {1, 2, 3, 4}\n",
        "my_set.remove(4)\n",
        "print(my_set)"
      ],
      "metadata": {
        "colab": {
          "base_uri": "https://localhost:8080/"
        },
        "id": "xBHYTetmO__6",
        "outputId": "2efa3d6f-5897-46fc-a834-8a0c3b6ec950"
      },
      "execution_count": 44,
      "outputs": [
        {
          "output_type": "stream",
          "name": "stdout",
          "text": [
            "{1, 2, 3}\n"
          ]
        }
      ]
    },
    {
      "cell_type": "markdown",
      "source": [
        "**Write a code to find the union of two sets {1, 2, 3} and {3, 4, 5}.**"
      ],
      "metadata": {
        "id": "DhFpyjPoPh1G"
      }
    },
    {
      "cell_type": "code",
      "source": [
        "set1 = {1, 2, 3}\n",
        "set2 = {3, 4, 5}\n",
        "union_set = set1.union(set2)\n",
        "print(union_set)"
      ],
      "metadata": {
        "colab": {
          "base_uri": "https://localhost:8080/"
        },
        "id": "l9DGfqysPY_Q",
        "outputId": "85d0dc7a-87f8-4d14-9fae-0a7048bcc159"
      },
      "execution_count": 45,
      "outputs": [
        {
          "output_type": "stream",
          "name": "stdout",
          "text": [
            "{1, 2, 3, 4, 5}\n"
          ]
        }
      ]
    },
    {
      "cell_type": "markdown",
      "source": [
        "**Write a code to find the intersection of two sets {1, 2, 3} and {2, 3, 4}.**"
      ],
      "metadata": {
        "id": "tsbsMnTVQI3P"
      }
    },
    {
      "cell_type": "code",
      "source": [
        "set1 = {1, 2, 3}\n",
        "set2 = {2, 3, 4}\n",
        "intersection_set = set1.intersection(set2)\n",
        "print(intersection_set)"
      ],
      "metadata": {
        "colab": {
          "base_uri": "https://localhost:8080/"
        },
        "id": "er0oa5MhP58V",
        "outputId": "73b5b4f1-66a9-4b78-bce0-992a28c7dd6d"
      },
      "execution_count": 47,
      "outputs": [
        {
          "output_type": "stream",
          "name": "stdout",
          "text": [
            "{2, 3}\n"
          ]
        }
      ]
    },
    {
      "cell_type": "markdown",
      "source": [
        "**Write a code to create a dictionary with the keys \"name\", \"age\", and \"city\", and print it.**"
      ],
      "metadata": {
        "id": "pjXbd11nQuZA"
      }
    },
    {
      "cell_type": "code",
      "source": [
        "my_dict = {\"name\": \"Nishant\", \"age\": \"29\", \"city\": \"Meerut\"}\n",
        "print(my_dict)"
      ],
      "metadata": {
        "colab": {
          "base_uri": "https://localhost:8080/"
        },
        "id": "p0eYEav3Qea6",
        "outputId": "cfeca5dc-e8a4-4a60-c215-962ba008012d"
      },
      "execution_count": 48,
      "outputs": [
        {
          "output_type": "stream",
          "name": "stdout",
          "text": [
            "{'name': 'Nishant', 'age': '29', 'city': 'Meerut'}\n"
          ]
        }
      ]
    },
    {
      "cell_type": "markdown",
      "source": [
        "**Write a code to add a new key-value pair \"country\": \"USA\" to the dictionary {'name': 'John', 'age': 25}.**"
      ],
      "metadata": {
        "id": "6SayKMlmRXOA"
      }
    },
    {
      "cell_type": "code",
      "source": [
        "my_dict = {\"name\": \"John\", \"age\": \"25\"}\n",
        "my_dict[\"country\"] = \"USA\"\n",
        "print(my_dict)"
      ],
      "metadata": {
        "colab": {
          "base_uri": "https://localhost:8080/"
        },
        "id": "2Dv7JOIuRLn3",
        "outputId": "8878245d-1f01-4b48-e719-5d99e44fb417"
      },
      "execution_count": 50,
      "outputs": [
        {
          "output_type": "stream",
          "name": "stdout",
          "text": [
            "{'name': 'John', 'age': '25', 'country': 'USA'}\n"
          ]
        }
      ]
    },
    {
      "cell_type": "markdown",
      "source": [
        "**Write a code to access the value associated with the key \"name\" in the dictionary {'name': 'Alice', 'age': 30}.**"
      ],
      "metadata": {
        "id": "cFnQEC5ISQbw"
      }
    },
    {
      "cell_type": "code",
      "source": [
        "my_dict = {'name': 'Alice', 'age': 30}\n",
        "name_value = my_dict[\"name\"]\n",
        "print(name_value)"
      ],
      "metadata": {
        "colab": {
          "base_uri": "https://localhost:8080/"
        },
        "id": "4zqarAwcR6lc",
        "outputId": "38558454-6bd1-4cbe-a189-e709c4f4cd12"
      },
      "execution_count": 51,
      "outputs": [
        {
          "output_type": "stream",
          "name": "stdout",
          "text": [
            "Alice\n"
          ]
        }
      ]
    },
    {
      "cell_type": "markdown",
      "source": [
        "**Write a code to remove the key \"age\" from the dictionary {'name': 'Bob', 'age': 22, 'city': 'New York'}.**"
      ],
      "metadata": {
        "id": "ibcm1pbLSy1P"
      }
    },
    {
      "cell_type": "code",
      "source": [
        "my_dict = {'name': 'Bob', 'age': 22, 'city': 'New York'}\n",
        "del my_dict[\"age\"]\n",
        "print(my_dict)"
      ],
      "metadata": {
        "colab": {
          "base_uri": "https://localhost:8080/"
        },
        "id": "rVNIW7UASmWw",
        "outputId": "c2752f48-0ffb-400b-89b1-8c8f5549037e"
      },
      "execution_count": 52,
      "outputs": [
        {
          "output_type": "stream",
          "name": "stdout",
          "text": [
            "{'name': 'Bob', 'city': 'New York'}\n"
          ]
        }
      ]
    },
    {
      "cell_type": "markdown",
      "source": [
        "**Write a code to check if the key \"city\" exists in the dictionary {'name': 'Alice', 'city': 'Paris'}.**"
      ],
      "metadata": {
        "id": "kZNemW3oTVx3"
      }
    },
    {
      "cell_type": "code",
      "source": [
        "my_dict = {'name': 'Alice', 'city': 'Paris'}\n",
        "if \"city\" in my_dict:\n",
        "    print(True)\n",
        "else:\n",
        "    print(False)"
      ],
      "metadata": {
        "colab": {
          "base_uri": "https://localhost:8080/"
        },
        "id": "jXK97oZeTD0n",
        "outputId": "e9e76342-686f-4dd5-8b62-f17fc122685d"
      },
      "execution_count": 56,
      "outputs": [
        {
          "output_type": "stream",
          "name": "stdout",
          "text": [
            "True\n"
          ]
        }
      ]
    },
    {
      "cell_type": "markdown",
      "source": [
        "**Write a code to create a list, a tuple, and a dictionary, and print them all.**"
      ],
      "metadata": {
        "id": "KqyBAVDGUV73"
      }
    },
    {
      "cell_type": "code",
      "source": [
        "my_list = [1, 2, 3, 4, 5]\n",
        "my_tuple = (1, 2, 3, 4, 5)\n",
        "my_dict = {\"name\": \"Nishtant\", \"age\": \"29\"}\n",
        "print(my_list)\n",
        "print(my_tuple)\n",
        "print(my_dict)"
      ],
      "metadata": {
        "colab": {
          "base_uri": "https://localhost:8080/"
        },
        "id": "ZNtnjq0_UM7U",
        "outputId": "0d2759b0-6b57-4659-8e12-3927b5b7a6de"
      },
      "execution_count": 59,
      "outputs": [
        {
          "output_type": "stream",
          "name": "stdout",
          "text": [
            "[1, 2, 3, 4, 5]\n",
            "(1, 2, 3, 4, 5)\n",
            "{'name': 'Nishtant', 'age': '29'}\n"
          ]
        }
      ]
    },
    {
      "cell_type": "markdown",
      "source": [
        "Write a code to create a list of 5 random numbers between 1 and 100, sort it in ascending order, and print the\n",
        "result.(replaced)"
      ],
      "metadata": {
        "id": "_sUO7QP8Vgio"
      }
    },
    {
      "cell_type": "code",
      "source": [
        "random_numbers = [random.randint(1, 100) for _ in range(5)]\n",
        "random_numbers.sort()\n",
        "print(random_numbers)"
      ],
      "metadata": {
        "colab": {
          "base_uri": "https://localhost:8080/"
        },
        "id": "zKiqwnfYWDX1",
        "outputId": "0082a224-a25b-419f-a019-14b118515ec6"
      },
      "execution_count": 61,
      "outputs": [
        {
          "output_type": "stream",
          "name": "stdout",
          "text": [
            "[23, 59, 65, 78, 89]\n"
          ]
        }
      ]
    },
    {
      "cell_type": "markdown",
      "source": [
        "**Write a code to create a list with strings and print the element at the third index.**"
      ],
      "metadata": {
        "id": "k7AkdBBVWr84"
      }
    },
    {
      "cell_type": "code",
      "source": [
        "my_string_list = [\"apple\", \"banana\", \"cherry\", \"date\", \"orange\", \"kiwi\"]\n",
        "print(my_string_list[3])"
      ],
      "metadata": {
        "colab": {
          "base_uri": "https://localhost:8080/"
        },
        "id": "7CJCaEvXWhlW",
        "outputId": "d40b74f3-8058-4e98-999b-60047d89ca45"
      },
      "execution_count": 63,
      "outputs": [
        {
          "output_type": "stream",
          "name": "stdout",
          "text": [
            "date\n"
          ]
        }
      ]
    },
    {
      "cell_type": "markdown",
      "source": [
        "**Write a code to combine two dictionaries into one and print the result.**"
      ],
      "metadata": {
        "id": "jf2KmqgrXJbt"
      }
    },
    {
      "cell_type": "code",
      "source": [
        "dict1 = {\"a\": 1, \"b\": 2}\n",
        "dict2 = {\"c\": 3, \"d\": 4}\n",
        "combined_dict_update = dict1.copy()\n",
        "combined_dict_update.update(dict2)\n",
        "print(combined_dict_update)"
      ],
      "metadata": {
        "colab": {
          "base_uri": "https://localhost:8080/"
        },
        "id": "-9kcK-_pXD77",
        "outputId": "15a2b6f3-f4c7-4f40-bb66-00977ddac76a"
      },
      "execution_count": 64,
      "outputs": [
        {
          "output_type": "stream",
          "name": "stdout",
          "text": [
            "{'a': 1, 'b': 2, 'c': 3, 'd': 4}\n"
          ]
        }
      ]
    },
    {
      "cell_type": "markdown",
      "source": [
        "**Write a code to convert a list of strings into a set.**"
      ],
      "metadata": {
        "id": "cNcmvueyXulw"
      }
    },
    {
      "cell_type": "code",
      "source": [
        "string_list = [\"apple\", \"banana\", \"cherry\", \"apple\", \"date\"]\n",
        "string_set = set(string_list)\n",
        "print(string_set)"
      ],
      "metadata": {
        "colab": {
          "base_uri": "https://localhost:8080/"
        },
        "id": "wlgUhDfkXq34",
        "outputId": "0a3f24a1-75f0-464c-dbc6-708184818ad1"
      },
      "execution_count": 65,
      "outputs": [
        {
          "output_type": "stream",
          "name": "stdout",
          "text": [
            "{'banana', 'date', 'apple', 'cherry'}\n"
          ]
        }
      ]
    }
  ]
}